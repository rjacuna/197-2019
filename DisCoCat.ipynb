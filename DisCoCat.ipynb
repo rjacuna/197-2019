{
 "cells": [
  {
   "cell_type": "code",
   "execution_count": 18,
   "metadata": {},
   "outputs": [],
   "source": [
    "import nltk"
   ]
  },
  {
   "cell_type": "code",
   "execution_count": 13,
   "metadata": {},
   "outputs": [],
   "source": [
    "arrow = 'An  Eagle  was  soaring  through  the  air  when  suddenly  it heard  the  whizz  of  an  Arrow,  and  felt  itself  wounded  to death.  Slowly  it  fluttered  down  to  the  earth,  with  its  life-blood  pouring  out  of  it.  Looking  down  upon  the  Arrow with which it had been pierced, it found that the shaft of the Arrow had been feathered with one of its own plumes. ‘Alas!’ it cried, as it died,‘We  often  give  our  enemies  the  means  for  our  own  de-struction.’'"
   ]
  },
  {
   "cell_type": "code",
   "execution_count": 14,
   "metadata": {},
   "outputs": [
    {
     "data": {
      "text/plain": [
       "'An  Eagle  was  soaring  through  the  air  when  suddenly  it heard  the  whizz  of  an  Arrow,  and  felt  itself  wounded  to death.  Slowly  it  fluttered  down  to  the  earth,  with  its  life-blood  pouring  out  of  it.  Looking  down  upon  the  Arrow with which it had been pierced, it found that the shaft of the Arrow had been feathered with one of its own plumes. ‘Alas!’ it cried, as it died,‘We  often  give  our  enemies  the  means  for  our  own  de-struction.’'"
      ]
     },
     "execution_count": 14,
     "metadata": {},
     "output_type": "execute_result"
    }
   ],
   "source": [
    "arrow"
   ]
  },
  {
   "cell_type": "code",
   "execution_count": 11,
   "metadata": {},
   "outputs": [],
   "source": [
    "flecha = 'Estaba   asentada   un   águila   en   el   pico   de   un   peñasco   esperando por la llegada de las liebres.Mas la vio un cazador, y lanzándole una flecha le atravesó su cuerpo. Viendo  el  águila  entonces  que  la  flecha  estaba  construida  con plumas de su propia especie exclamó:—¡Qué tristeza, terminar mis días por causa de las plumas de mi especie! Más  profundo  es  nuestro  dolor  cuando  nos  vencen  con  nuestras propias armas'"
   ]
  },
  {
   "cell_type": "code",
   "execution_count": 16,
   "metadata": {},
   "outputs": [
    {
     "data": {
      "text/plain": [
       "'Estaba   asentada   un   águila   en   el   pico   de   un   peñasco   esperando por la llegada de las liebres.Mas la vio un cazador, y lanzándole una flecha le atravesó su cuerpo. Viendo  el  águila  entonces  que  la  flecha  estaba  construida  con plumas de su propia especie exclamó:—¡Qué tristeza, terminar mis días por causa de las plumas de mi especie! Más  profundo  es  nuestro  dolor  cuando  nos  vencen  con  nuestras propias armas'"
      ]
     },
     "execution_count": 16,
     "metadata": {},
     "output_type": "execute_result"
    }
   ],
   "source": [
    "flecha"
   ]
  },
  {
   "cell_type": "code",
   "execution_count": 21,
   "metadata": {},
   "outputs": [
    {
     "name": "stdout",
     "output_type": "stream",
     "text": [
      "showing info https://raw.githubusercontent.com/nltk/nltk_data/gh-pages/index.xml\n"
     ]
    },
    {
     "data": {
      "text/plain": [
       "True"
      ]
     },
     "execution_count": 21,
     "metadata": {},
     "output_type": "execute_result"
    }
   ],
   "source": [
    "nltk.download()"
   ]
  },
  {
   "cell_type": "code",
   "execution_count": 28,
   "metadata": {},
   "outputs": [],
   "source": [
    "t1 = nltk.word_tokenize(arrow)"
   ]
  },
  {
   "cell_type": "code",
   "execution_count": 29,
   "metadata": {},
   "outputs": [
    {
     "data": {
      "text/plain": [
       "['An',\n",
       " 'Eagle',\n",
       " 'was',\n",
       " 'soaring',\n",
       " 'through',\n",
       " 'the',\n",
       " 'air',\n",
       " 'when',\n",
       " 'suddenly',\n",
       " 'it',\n",
       " 'heard',\n",
       " 'the',\n",
       " 'whizz',\n",
       " 'of',\n",
       " 'an',\n",
       " 'Arrow',\n",
       " ',',\n",
       " 'and',\n",
       " 'felt',\n",
       " 'itself',\n",
       " 'wounded',\n",
       " 'to',\n",
       " 'death',\n",
       " '.',\n",
       " 'Slowly',\n",
       " 'it',\n",
       " 'fluttered',\n",
       " 'down',\n",
       " 'to',\n",
       " 'the',\n",
       " 'earth',\n",
       " ',',\n",
       " 'with',\n",
       " 'its',\n",
       " 'life-blood',\n",
       " 'pouring',\n",
       " 'out',\n",
       " 'of',\n",
       " 'it',\n",
       " '.',\n",
       " 'Looking',\n",
       " 'down',\n",
       " 'upon',\n",
       " 'the',\n",
       " 'Arrow',\n",
       " 'with',\n",
       " 'which',\n",
       " 'it',\n",
       " 'had',\n",
       " 'been',\n",
       " 'pierced',\n",
       " ',',\n",
       " 'it',\n",
       " 'found',\n",
       " 'that',\n",
       " 'the',\n",
       " 'shaft',\n",
       " 'of',\n",
       " 'the',\n",
       " 'Arrow',\n",
       " 'had',\n",
       " 'been',\n",
       " 'feathered',\n",
       " 'with',\n",
       " 'one',\n",
       " 'of',\n",
       " 'its',\n",
       " 'own',\n",
       " 'plumes',\n",
       " '.',\n",
       " '‘',\n",
       " 'Alas',\n",
       " '!',\n",
       " '’',\n",
       " 'it',\n",
       " 'cried',\n",
       " ',',\n",
       " 'as',\n",
       " 'it',\n",
       " 'died',\n",
       " ',',\n",
       " '‘',\n",
       " 'We',\n",
       " 'often',\n",
       " 'give',\n",
       " 'our',\n",
       " 'enemies',\n",
       " 'the',\n",
       " 'means',\n",
       " 'for',\n",
       " 'our',\n",
       " 'own',\n",
       " 'de-struction',\n",
       " '.',\n",
       " '’']"
      ]
     },
     "execution_count": 29,
     "metadata": {},
     "output_type": "execute_result"
    }
   ],
   "source": [
    "t1"
   ]
  },
  {
   "cell_type": "code",
   "execution_count": 31,
   "metadata": {},
   "outputs": [
    {
     "data": {
      "text/plain": [
       "['Estaba',\n",
       " 'asentada',\n",
       " 'un',\n",
       " 'águila',\n",
       " 'en',\n",
       " 'el',\n",
       " 'pico',\n",
       " 'de',\n",
       " 'un',\n",
       " 'peñasco',\n",
       " 'esperando',\n",
       " 'por',\n",
       " 'la',\n",
       " 'llegada',\n",
       " 'de',\n",
       " 'las',\n",
       " 'liebres.Mas',\n",
       " 'la',\n",
       " 'vio',\n",
       " 'un',\n",
       " 'cazador',\n",
       " ',',\n",
       " 'y',\n",
       " 'lanzándole',\n",
       " 'una',\n",
       " 'flecha',\n",
       " 'le',\n",
       " 'atravesó',\n",
       " 'su',\n",
       " 'cuerpo',\n",
       " '.',\n",
       " 'Viendo',\n",
       " 'el',\n",
       " 'águila',\n",
       " 'entonces',\n",
       " 'que',\n",
       " 'la',\n",
       " 'flecha',\n",
       " 'estaba',\n",
       " 'construida',\n",
       " 'con',\n",
       " 'plumas',\n",
       " 'de',\n",
       " 'su',\n",
       " 'propia',\n",
       " 'especie',\n",
       " 'exclamó',\n",
       " ':',\n",
       " '—¡Qué',\n",
       " 'tristeza',\n",
       " ',',\n",
       " 'terminar',\n",
       " 'mis',\n",
       " 'días',\n",
       " 'por',\n",
       " 'causa',\n",
       " 'de',\n",
       " 'las',\n",
       " 'plumas',\n",
       " 'de',\n",
       " 'mi',\n",
       " 'especie',\n",
       " '!',\n",
       " 'Más',\n",
       " 'profundo',\n",
       " 'es',\n",
       " 'nuestro',\n",
       " 'dolor',\n",
       " 'cuando',\n",
       " 'nos',\n",
       " 'vencen',\n",
       " 'con',\n",
       " 'nuestras',\n",
       " 'propias',\n",
       " 'armas']"
      ]
     },
     "execution_count": 31,
     "metadata": {},
     "output_type": "execute_result"
    }
   ],
   "source": [
    "t2 = nltk.word_tokenize(flecha)\n",
    "t2"
   ]
  }
 ],
 "metadata": {
  "kernelspec": {
   "display_name": "Python 3",
   "language": "python",
   "name": "python3"
  },
  "language_info": {
   "codemirror_mode": {
    "name": "ipython",
    "version": 3
   },
   "file_extension": ".py",
   "mimetype": "text/x-python",
   "name": "python",
   "nbconvert_exporter": "python",
   "pygments_lexer": "ipython3",
   "version": "3.6.2"
  }
 },
 "nbformat": 4,
 "nbformat_minor": 2
}
