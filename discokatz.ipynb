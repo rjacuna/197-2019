{
 "cells": [
  {
   "cell_type": "code",
   "execution_count": 2,
   "metadata": {},
   "outputs": [],
   "source": [
    "from sympy import *\n",
    "init_printing(use_unicode=True)"
   ]
  },
  {
   "cell_type": "code",
   "execution_count": 4,
   "metadata": {},
   "outputs": [],
   "source": [
    "chases = Matrix([[.6,.2,.005],[0.9,0.25,.005],[0.1,.8,.5]])"
   ]
  },
  {
   "cell_type": "code",
   "execution_count": 7,
   "metadata": {},
   "outputs": [
    {
     "data": {
      "image/png": "[encoded data removed]",
      "text/latex": [
       "$$\\left[\\begin{matrix}0.6 & 0.2 & 0.005\\\\0.9 & 0.25 & 0.005\\\\0.1 & 0.8 & 0.5\\end{matrix}\\right]$$"
      ],
      "text/plain": [
       "⎡0.6  0.2   0.005⎤\n",
       "⎢                ⎥\n",
       "⎢0.9  0.25  0.005⎥\n",
       "⎢                ⎥\n",
       "⎣0.1  0.8    0.5 ⎦"
      ]
     },
     "execution_count": 7,
     "metadata": {},
     "output_type": "execute_result"
    }
   ],
   "source": [
    "chases"
   ]
  },
  {
   "cell_type": "code",
   "execution_count": 12,
   "metadata": {},
   "outputs": [],
   "source": [
    "left = Matrix([[1,0,0],[0,1,0],[0,0,1],[0,0,0],[0,0,0],[0,0,0]])\n",
    "right = Matrix([[0,0,0,1,0,0],[0,0,0,0,1,0],[0,0,0,0,0,1]])"
   ]
  },
  {
   "cell_type": "code",
   "execution_count": 14,
   "metadata": {},
   "outputs": [
    {
     "data": {
      "image/png": "[encoded data removed]",
      "text/latex": [
       "$$\\left[\\begin{matrix}1 & 0 & 0\\\\0 & 1 & 0\\\\0 & 0 & 1\\\\0 & 0 & 0\\\\0 & 0 & 0\\\\0 & 0 & 0\\end{matrix}\\right]$$"
      ],
      "text/plain": [
       "⎡1  0  0⎤\n",
       "⎢       ⎥\n",
       "⎢0  1  0⎥\n",
       "⎢       ⎥\n",
       "⎢0  0  1⎥\n",
       "⎢       ⎥\n",
       "⎢0  0  0⎥\n",
       "⎢       ⎥\n",
       "⎢0  0  0⎥\n",
       "⎢       ⎥\n",
       "⎣0  0  0⎦"
      ]
     },
     "execution_count": 14,
     "metadata": {},
     "output_type": "execute_result"
    }
   ],
   "source": [
    "left"
   ]
  },
  {
   "cell_type": "code",
   "execution_count": 16,
   "metadata": {},
   "outputs": [
    {
     "data": {
      "image/png": "[encoded data removed]",
      "text/latex": [
       "$$\\left[\\begin{matrix}0 & 0 & 0 & 1 & 0 & 0\\\\0 & 0 & 0 & 0 & 1 & 0\\\\0 & 0 & 0 & 0 & 0 & 1\\end{matrix}\\right]$$"
      ],
      "text/plain": [
       "⎡0  0  0  1  0  0⎤\n",
       "⎢                ⎥\n",
       "⎢0  0  0  0  1  0⎥\n",
       "⎢                ⎥\n",
       "⎣0  0  0  0  0  1⎦"
      ]
     },
     "execution_count": 16,
     "metadata": {},
     "output_type": "execute_result"
    }
   ],
   "source": [
    "right"
   ]
  },
  {
   "cell_type": "code",
   "execution_count": 28,
   "metadata": {},
   "outputs": [
    {
     "data": {
      "image/png": "[encoded data removed]",
      "text/latex": [
       "$$\\left[\\begin{matrix}0 & 0 & 0 & 0.6 & 0.2 & 0.005\\\\0 & 0 & 0 & 0.9 & 0.25 & 0.005\\\\0 & 0 & 0 & 0.1 & 0.8 & 0.5\\\\0 & 0 & 0 & 0 & 0 & 0\\\\0 & 0 & 0 & 0 & 0 & 0\\\\0 & 0 & 0 & 0 & 0 & 0\\end{matrix}\\right]$$"
      ],
      "text/plain": [
       "⎡0  0  0  0.6  0.2   0.005⎤\n",
       "⎢                         ⎥\n",
       "⎢0  0  0  0.9  0.25  0.005⎥\n",
       "⎢                         ⎥\n",
       "⎢0  0  0  0.1  0.8    0.5 ⎥\n",
       "⎢                         ⎥\n",
       "⎢0  0  0   0    0      0  ⎥\n",
       "⎢                         ⎥\n",
       "⎢0  0  0   0    0      0  ⎥\n",
       "⎢                         ⎥\n",
       "⎣0  0  0   0    0      0  ⎦"
      ]
     },
     "execution_count": 28,
     "metadata": {},
     "output_type": "execute_result"
    }
   ],
   "source": [
    "chases2= left*chases*right\n",
    "chases2"
   ]
  },
  {
   "cell_type": "code",
   "execution_count": 67,
   "metadata": {},
   "outputs": [
    {
     "data": {
      "image/png": "[encoded data removed]",
      "text/latex": [
       "$$\\left[\\begin{matrix}1 & 0 & 0 & 1 & 0 & 0\\end{matrix}\\right]$$"
      ],
      "text/plain": [
       "[1  0  0  1  0  0]"
      ]
     },
     "execution_count": 67,
     "metadata": {},
     "output_type": "execute_result"
    }
   ],
   "source": [
    "dog = Matrix([1,0,0,1,0,0]).T\n",
    "dog"
   ]
  },
  {
   "cell_type": "code",
   "execution_count": 69,
   "metadata": {},
   "outputs": [
    {
     "data": {
      "image/png": "[encoded data removed]",
      "text/latex": [
       "$$\\left[\\begin{matrix}0\\\\1\\\\0\\\\0\\\\1\\\\0\\end{matrix}\\right]$$"
      ],
      "text/plain": [
       "⎡0⎤\n",
       "⎢ ⎥\n",
       "⎢1⎥\n",
       "⎢ ⎥\n",
       "⎢0⎥\n",
       "⎢ ⎥\n",
       "⎢0⎥\n",
       "⎢ ⎥\n",
       "⎢1⎥\n",
       "⎢ ⎥\n",
       "⎣0⎦"
      ]
     },
     "execution_count": 69,
     "metadata": {},
     "output_type": "execute_result"
    }
   ],
   "source": [
    "cat = Matrix([0,1,0,0,1,0])\n",
    "cat"
   ]
  },
  {
   "cell_type": "code",
   "execution_count": 31,
   "metadata": {},
   "outputs": [
    {
     "data": {
      "image/png": "[encoded data removed]",
      "text/latex": [
       "$$\\left[\\begin{matrix}100 & 0 & 0 & 0 & 0 & 0\\\\0 & 100 & 0 & 0 & 0 & 0\\\\0 & 0 & 100 & 0 & 0 & 0\\\\0 & 0 & 0 & 0.01 & 0 & 0\\\\0 & 0 & 0 & 0 & 0.01 & 0\\\\0 & 0 & 0 & 0 & 0 & 0.01\\end{matrix}\\right]$$"
      ],
      "text/plain": [
       "⎡100   0    0    0     0     0  ⎤\n",
       "⎢                               ⎥\n",
       "⎢ 0   100   0    0     0     0  ⎥\n",
       "⎢                               ⎥\n",
       "⎢ 0    0   100   0     0     0  ⎥\n",
       "⎢                               ⎥\n",
       "⎢ 0    0    0   0.01   0     0  ⎥\n",
       "⎢                               ⎥\n",
       "⎢ 0    0    0    0    0.01   0  ⎥\n",
       "⎢                               ⎥\n",
       "⎣ 0    0    0    0     0    0.01⎦"
      ]
     },
     "execution_count": 31,
     "metadata": {},
     "output_type": "execute_result"
    }
   ],
   "source": [
    "big = Matrix([[100,0,0,0,0,0],[0,100,0,0,0,0],[0,0,100,0,0,0],\n",
    "              [0,0,0,1/100,0,0], [0,0,0,0,1/100,0], [0,0,0,0,0,1/100]])\n",
    "big"
   ]
  },
  {
   "cell_type": "code",
   "execution_count": 33,
   "metadata": {},
   "outputs": [
    {
     "data": {
      "image/png": "[encoded data removed]",
      "text/latex": [
       "$$\\left[\\begin{matrix}100\\\\0\\\\0\\\\0.01\\\\0\\\\0\\end{matrix}\\right]$$"
      ],
      "text/plain": [
       "⎡100 ⎤\n",
       "⎢    ⎥\n",
       "⎢ 0  ⎥\n",
       "⎢    ⎥\n",
       "⎢ 0  ⎥\n",
       "⎢    ⎥\n",
       "⎢0.01⎥\n",
       "⎢    ⎥\n",
       "⎢ 0  ⎥\n",
       "⎢    ⎥\n",
       "⎣ 0  ⎦"
      ]
     },
     "execution_count": 33,
     "metadata": {},
     "output_type": "execute_result"
    }
   ],
   "source": [
    "big*dog"
   ]
  },
  {
   "cell_type": "code",
   "execution_count": 36,
   "metadata": {},
   "outputs": [
    {
     "data": {
      "image/png": "[encoded data removed]",
      "text/latex": [
       "$$\\left[\\begin{matrix}0.01 & 0 & 0 & 0 & 0 & 0\\\\0 & 0.01 & 0 & 0 & 0 & 0\\\\0 & 0 & 0.01 & 0 & 0 & 0\\\\0 & 0 & 0 & 100 & 0 & 0\\\\0 & 0 & 0 & 0 & 100 & 0\\\\0 & 0 & 0 & 0 & 0 & 100\\end{matrix}\\right]$$"
      ],
      "text/plain": [
       "⎡0.01   0     0     0    0    0 ⎤\n",
       "⎢                               ⎥\n",
       "⎢ 0    0.01   0     0    0    0 ⎥\n",
       "⎢                               ⎥\n",
       "⎢ 0     0    0.01   0    0    0 ⎥\n",
       "⎢                               ⎥\n",
       "⎢ 0     0     0    100   0    0 ⎥\n",
       "⎢                               ⎥\n",
       "⎢ 0     0     0     0   100   0 ⎥\n",
       "⎢                               ⎥\n",
       "⎣ 0     0     0     0    0   100⎦"
      ]
     },
     "execution_count": 36,
     "metadata": {},
     "output_type": "execute_result"
    }
   ],
   "source": [
    "small = Matrix([[1/100,0,0,0,0,0],[0,1/100,0,0,0,0],[0,0,1/100,0,0,0],\n",
    "              [0,0,0,100,0,0], [0,0,0,0,100,0], [0,0,0,0,0,100]])\n",
    "small"
   ]
  },
  {
   "cell_type": "code",
   "execution_count": 87,
   "metadata": {},
   "outputs": [
    {
     "data": {
      "image/png": "[encoded data removed]",
      "text/latex": [
       "$$\\left[\\begin{matrix}0.01\\\\0\\\\0\\\\100\\\\0\\\\0\\end{matrix}\\right]$$"
      ],
      "text/plain": [
       "⎡0.01⎤\n",
       "⎢    ⎥\n",
       "⎢ 0  ⎥\n",
       "⎢    ⎥\n",
       "⎢ 0  ⎥\n",
       "⎢    ⎥\n",
       "⎢100 ⎥\n",
       "⎢    ⎥\n",
       "⎢ 0  ⎥\n",
       "⎢    ⎥\n",
       "⎣ 0  ⎦"
      ]
     },
     "execution_count": 87,
     "metadata": {},
     "output_type": "execute_result"
    }
   ],
   "source": [
    "small*dog.T"
   ]
  },
  {
   "cell_type": "code",
   "execution_count": 46,
   "metadata": {},
   "outputs": [
    {
     "data": {
      "image/png": "[encoded data removed]",
      "text/latex": [
       "$$\\left[\\begin{matrix}100\\\\0\\\\0\\end{matrix}\\right]$$"
      ],
      "text/plain": [
       "⎡100⎤\n",
       "⎢   ⎥\n",
       "⎢ 0 ⎥\n",
       "⎢   ⎥\n",
       "⎣ 0 ⎦"
      ]
     },
     "execution_count": 46,
     "metadata": {},
     "output_type": "execute_result"
    }
   ],
   "source": [
    "right*small*dog"
   ]
  },
  {
   "cell_type": "code",
   "execution_count": 70,
   "metadata": {},
   "outputs": [
    {
     "data": {
      "image/png": "[encoded data removed]",
      "text/latex": [
       "$$\\left[\\begin{matrix}1 & 0 & 0 & 1 & 0 & 0\\end{matrix}\\right]$$"
      ],
      "text/plain": [
       "[1  0  0  1  0  0]"
      ]
     },
     "execution_count": 70,
     "metadata": {},
     "output_type": "execute_result"
    }
   ],
   "source": [
    "dog"
   ]
  },
  {
   "cell_type": "code",
   "execution_count": 71,
   "metadata": {},
   "outputs": [
    {
     "data": {
      "image/png": "[encoded data removed]",
      "text/latex": [
       "$$\\left[\\begin{matrix}0\\\\1\\\\0\\\\0\\\\1\\\\0\\end{matrix}\\right]$$"
      ],
      "text/plain": [
       "⎡0⎤\n",
       "⎢ ⎥\n",
       "⎢1⎥\n",
       "⎢ ⎥\n",
       "⎢0⎥\n",
       "⎢ ⎥\n",
       "⎢0⎥\n",
       "⎢ ⎥\n",
       "⎢1⎥\n",
       "⎢ ⎥\n",
       "⎣0⎦"
      ]
     },
     "execution_count": 71,
     "metadata": {},
     "output_type": "execute_result"
    }
   ],
   "source": [
    "cat"
   ]
  },
  {
   "cell_type": "code",
   "execution_count": 84,
   "metadata": {},
   "outputs": [
    {
     "data": {
      "image/png": "[encoded data removed]",
      "text/latex": [
       "$$\\left[\\begin{matrix}2000.0\\end{matrix}\\right]$$"
      ],
      "text/plain": [
       "[2000.0]"
      ]
     },
     "execution_count": 84,
     "metadata": {},
     "output_type": "execute_result"
    }
   ],
   "source": [
    "(big*dog.T).T*chases2*small*cat"
   ]
  }
 ],
 "metadata": {
  "kernelspec": {
   "display_name": "Python 3",
   "language": "python",
   "name": "python3"
  },
  "language_info": {
   "codemirror_mode": {
    "name": "ipython",
    "version": 3
   },
   "file_extension": ".py",
   "mimetype": "text/x-python",
   "name": "python",
   "nbconvert_exporter": "python",
   "pygments_lexer": "ipython3",
   "version": "3.6.2"
  }
 },
 "nbformat": 4,
 "nbformat_minor": 2
}
